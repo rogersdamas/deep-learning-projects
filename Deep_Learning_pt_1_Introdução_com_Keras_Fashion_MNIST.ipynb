{
  "nbformat": 4,
  "nbformat_minor": 0,
  "metadata": {
    "colab": {
      "name": "Deep Learning pt 1 - Introdução com Keras - Fashion MNIST",
      "provenance": [],
      "authorship_tag": "ABX9TyOnJ9lIODnPmy7BmN0h6KOE",
      "include_colab_link": true
    },
    "kernelspec": {
      "name": "python3",
      "display_name": "Python 3"
    },
    "language_info": {
      "name": "python"
    }
  },
  "cells": [
    {
      "cell_type": "markdown",
      "metadata": {
        "id": "view-in-github",
        "colab_type": "text"
      },
      "source": [
        "<a href=\"https://colab.research.google.com/github/rogersdamas/deep-learning-projects/blob/main/Deep_Learning_pt_1_Introdu%C3%A7%C3%A3o_com_Keras_Fashion_MNIST.ipynb\" target=\"_parent\"><img src=\"https://colab.research.google.com/assets/colab-badge.svg\" alt=\"Open In Colab\"/></a>"
      ]
    },
    {
      "cell_type": "markdown",
      "source": [
        "**Qual a diferença entre Machine Learning e Deep Learning?**\n",
        "\n",
        "Enquanto o modelo de Machine Learning aprende com as características que nomeamos, as funções de Deep Learning extraem essas características, pois entendem quais características são essas. Lembrando que essa extração não precisa ser apenas para imagens ou problemas de classificação, podemos aplicar essa técnica para outros tipos de dados e problemas."
      ],
      "metadata": {
        "id": "QsyHfQIVRgxu"
      }
    },
    {
      "cell_type": "markdown",
      "source": [
        "**Imports**"
      ],
      "metadata": {
        "id": "2arMyJy9alJI"
      }
    },
    {
      "cell_type": "code",
      "source": [
        "from scipy import ndimage\n",
        "import tensorflow\n",
        "from tensorflow import keras\n",
        "from tensorflow.keras.models import load_model\n",
        "import matplotlib.pyplot as plt\n",
        "import numpy as np"
      ],
      "metadata": {
        "id": "TjsEWZO_PcVo"
      },
      "execution_count": 54,
      "outputs": []
    },
    {
      "cell_type": "markdown",
      "source": [
        "**Carregando o dataset**"
      ],
      "metadata": {
        "id": "Y3PBAG4KanFp"
      }
    },
    {
      "cell_type": "code",
      "execution_count": 55,
      "metadata": {
        "id": "tJpjGV6jMhO8"
      },
      "outputs": [],
      "source": [
        "dataset = keras.datasets.fashion_mnist\n",
        "((imagens_treino, identificacoes_treino),(imagens_teste, identificacoes_teste)) = dataset.load_data()"
      ]
    },
    {
      "cell_type": "markdown",
      "source": [
        "**Explorando os dados**"
      ],
      "metadata": {
        "id": "yIpE8UlIawrP"
      }
    },
    {
      "cell_type": "code",
      "source": [
        "imagens_treino"
      ],
      "metadata": {
        "colab": {
          "base_uri": "https://localhost:8080/"
        },
        "id": "opiZV57HQMX-",
        "outputId": "8988bfd3-c678-415e-ac4d-5f30439a0b08"
      },
      "execution_count": 56,
      "outputs": [
        {
          "output_type": "execute_result",
          "data": {
            "text/plain": [
              "array([[[0, 0, 0, ..., 0, 0, 0],\n",
              "        [0, 0, 0, ..., 0, 0, 0],\n",
              "        [0, 0, 0, ..., 0, 0, 0],\n",
              "        ...,\n",
              "        [0, 0, 0, ..., 0, 0, 0],\n",
              "        [0, 0, 0, ..., 0, 0, 0],\n",
              "        [0, 0, 0, ..., 0, 0, 0]],\n",
              "\n",
              "       [[0, 0, 0, ..., 0, 0, 0],\n",
              "        [0, 0, 0, ..., 0, 0, 0],\n",
              "        [0, 0, 0, ..., 0, 0, 0],\n",
              "        ...,\n",
              "        [0, 0, 0, ..., 0, 0, 0],\n",
              "        [0, 0, 0, ..., 0, 0, 0],\n",
              "        [0, 0, 0, ..., 0, 0, 0]],\n",
              "\n",
              "       [[0, 0, 0, ..., 0, 0, 0],\n",
              "        [0, 0, 0, ..., 0, 0, 0],\n",
              "        [0, 0, 0, ..., 0, 0, 0],\n",
              "        ...,\n",
              "        [0, 0, 0, ..., 0, 0, 0],\n",
              "        [0, 0, 0, ..., 0, 0, 0],\n",
              "        [0, 0, 0, ..., 0, 0, 0]],\n",
              "\n",
              "       ...,\n",
              "\n",
              "       [[0, 0, 0, ..., 0, 0, 0],\n",
              "        [0, 0, 0, ..., 0, 0, 0],\n",
              "        [0, 0, 0, ..., 0, 0, 0],\n",
              "        ...,\n",
              "        [0, 0, 0, ..., 0, 0, 0],\n",
              "        [0, 0, 0, ..., 0, 0, 0],\n",
              "        [0, 0, 0, ..., 0, 0, 0]],\n",
              "\n",
              "       [[0, 0, 0, ..., 0, 0, 0],\n",
              "        [0, 0, 0, ..., 0, 0, 0],\n",
              "        [0, 0, 0, ..., 0, 0, 0],\n",
              "        ...,\n",
              "        [0, 0, 0, ..., 0, 0, 0],\n",
              "        [0, 0, 0, ..., 0, 0, 0],\n",
              "        [0, 0, 0, ..., 0, 0, 0]],\n",
              "\n",
              "       [[0, 0, 0, ..., 0, 0, 0],\n",
              "        [0, 0, 0, ..., 0, 0, 0],\n",
              "        [0, 0, 0, ..., 0, 0, 0],\n",
              "        ...,\n",
              "        [0, 0, 0, ..., 0, 0, 0],\n",
              "        [0, 0, 0, ..., 0, 0, 0],\n",
              "        [0, 0, 0, ..., 0, 0, 0]]], dtype=uint8)"
            ]
          },
          "metadata": {},
          "execution_count": 56
        }
      ]
    },
    {
      "cell_type": "code",
      "source": [
        "len(imagens_treino)\n",
        "imagens_treino.shape"
      ],
      "metadata": {
        "colab": {
          "base_uri": "https://localhost:8080/"
        },
        "id": "kIbB2sykSXSl",
        "outputId": "e54ebc75-8380-47ad-fe7e-f614c0e4428e"
      },
      "execution_count": 57,
      "outputs": [
        {
          "output_type": "execute_result",
          "data": {
            "text/plain": [
              "(60000, 28, 28)"
            ]
          },
          "metadata": {},
          "execution_count": 57
        }
      ]
    },
    {
      "cell_type": "code",
      "source": [
        "len(identificacoes_treino)\n",
        "identificacoes_treino.shape"
      ],
      "metadata": {
        "colab": {
          "base_uri": "https://localhost:8080/"
        },
        "id": "f_55uluLTVVk",
        "outputId": "206d79b1-9cbd-4a43-9950-f17ca8bd4b48"
      },
      "execution_count": 58,
      "outputs": [
        {
          "output_type": "execute_result",
          "data": {
            "text/plain": [
              "(60000,)"
            ]
          },
          "metadata": {},
          "execution_count": 58
        }
      ]
    },
    {
      "cell_type": "code",
      "source": [
        "plt.imshow(imagens_treino[0])\n",
        "plt.title(identificacoes_treino[0])"
      ],
      "metadata": {
        "colab": {
          "base_uri": "https://localhost:8080/",
          "height": 298
        },
        "id": "HHtzN-95UIm0",
        "outputId": "e3f41940-5c39-413d-b75a-944e3e0e5904"
      },
      "execution_count": 59,
      "outputs": [
        {
          "output_type": "execute_result",
          "data": {
            "text/plain": [
              "Text(0.5, 1.0, '9')"
            ]
          },
          "metadata": {},
          "execution_count": 59
        },
        {
          "output_type": "display_data",
          "data": {
            "image/png": "[encoded data removed]",
            "text/plain": [
              "<Figure size 432x288 with 1 Axes>"
            ]
          },
          "metadata": {
            "needs_background": "light"
          }
        }
      ]
    },
    {
      "cell_type": "code",
      "source": [
        "identificacoes_treino.min()"
      ],
      "metadata": {
        "colab": {
          "base_uri": "https://localhost:8080/"
        },
        "id": "aQGYvuesV2u0",
        "outputId": "26dc4595-9eba-420b-a15b-8ca4469e89a7"
      },
      "execution_count": 60,
      "outputs": [
        {
          "output_type": "execute_result",
          "data": {
            "text/plain": [
              "0"
            ]
          },
          "metadata": {},
          "execution_count": 60
        }
      ]
    },
    {
      "cell_type": "code",
      "source": [
        "identificacoes_treino.max()"
      ],
      "metadata": {
        "colab": {
          "base_uri": "https://localhost:8080/"
        },
        "id": "JtBcbPv2Wg0a",
        "outputId": "423daabb-3740-483c-f089-fa33a38de7a1"
      },
      "execution_count": 61,
      "outputs": [
        {
          "output_type": "execute_result",
          "data": {
            "text/plain": [
              "9"
            ]
          },
          "metadata": {},
          "execution_count": 61
        }
      ]
    },
    {
      "cell_type": "markdown",
      "source": [
        "**Exibindo os dados**"
      ],
      "metadata": {
        "id": "s2mjxLY-a05g"
      }
    },
    {
      "cell_type": "code",
      "source": [
        "total_de_classificacoes = 10\n",
        "nomes_de_classificacoes = ['Camiseta', 'Calça', 'Pullover', \n",
        "                           'Vestido', 'Casaco', 'Sandália', 'Camisa',\n",
        "                           'Tênis', 'Bolsa', 'Bota']"
      ],
      "metadata": {
        "id": "jcUrBUyqWlhT"
      },
      "execution_count": 62,
      "outputs": []
    },
    {
      "cell_type": "code",
      "source": [
        "for imagem in range(10):\n",
        "  plt.subplot(2, 5, imagem+1)\n",
        "  plt.imshow(imagens_treino[imagem])\n",
        "  plt.title(nomes_de_classificacoes[identificacoes_treino[imagem]])\n",
        "\n",
        "\n",
        "plt.imshow(imagens_treino[0])\n",
        "plt.colorbar()"
      ],
      "metadata": {
        "colab": {
          "base_uri": "https://localhost:8080/",
          "height": 267
        },
        "id": "egw3tE6-Xibr",
        "outputId": "e13215ad-6e08-42ec-d8c0-150df3a45034"
      },
      "execution_count": 63,
      "outputs": [
        {
          "output_type": "execute_result",
          "data": {
            "text/plain": [
              "<matplotlib.colorbar.Colorbar at 0x7fdc8d0083d0>"
            ]
          },
          "metadata": {},
          "execution_count": 63
        },
        {
          "output_type": "display_data",
          "data": {
            "image/png": "[encoded data removed]",
            "text/plain": [
              "<Figure size 432x288 with 11 Axes>"
            ]
          },
          "metadata": {
            "needs_background": "light"
          }
        }
      ]
    },
    {
      "cell_type": "code",
      "source": [
        "plt.imshow(imagens_treino[0])\n",
        "plt.colorbar()"
      ],
      "metadata": {
        "colab": {
          "base_uri": "https://localhost:8080/",
          "height": 282
        },
        "id": "Y_5nTdMB40CS",
        "outputId": "e82182c6-cdfa-4df1-e778-30b3f13c9fcc"
      },
      "execution_count": 64,
      "outputs": [
        {
          "output_type": "execute_result",
          "data": {
            "text/plain": [
              "<matplotlib.colorbar.Colorbar at 0x7fdc94b06ed0>"
            ]
          },
          "metadata": {},
          "execution_count": 64
        },
        {
          "output_type": "display_data",
          "data": {
            "image/png": "[encoded data removed]",
            "text/plain": [
              "<Figure size 432x288 with 2 Axes>"
            ]
          },
          "metadata": {
            "needs_background": "light"
          }
        }
      ]
    },
    {
      "cell_type": "code",
      "source": [
        "imagens_teste"
      ],
      "metadata": {
        "colab": {
          "base_uri": "https://localhost:8080/"
        },
        "id": "0fssIs_wRFfe",
        "outputId": "80285b17-e3a1-4b9a-9537-7b12e978615a"
      },
      "execution_count": 65,
      "outputs": [
        {
          "output_type": "execute_result",
          "data": {
            "text/plain": [
              "array([[[0, 0, 0, ..., 0, 0, 0],\n",
              "        [0, 0, 0, ..., 0, 0, 0],\n",
              "        [0, 0, 0, ..., 0, 0, 0],\n",
              "        ...,\n",
              "        [0, 0, 0, ..., 0, 0, 0],\n",
              "        [0, 0, 0, ..., 0, 0, 0],\n",
              "        [0, 0, 0, ..., 0, 0, 0]],\n",
              "\n",
              "       [[0, 0, 0, ..., 0, 0, 0],\n",
              "        [0, 0, 0, ..., 0, 0, 0],\n",
              "        [0, 0, 0, ..., 0, 0, 0],\n",
              "        ...,\n",
              "        [0, 0, 0, ..., 0, 0, 0],\n",
              "        [0, 0, 0, ..., 0, 0, 0],\n",
              "        [0, 0, 0, ..., 0, 0, 0]],\n",
              "\n",
              "       [[0, 0, 0, ..., 0, 0, 0],\n",
              "        [0, 0, 0, ..., 0, 0, 0],\n",
              "        [0, 0, 0, ..., 0, 0, 0],\n",
              "        ...,\n",
              "        [0, 0, 0, ..., 0, 0, 0],\n",
              "        [0, 0, 0, ..., 0, 0, 0],\n",
              "        [0, 0, 0, ..., 0, 0, 0]],\n",
              "\n",
              "       ...,\n",
              "\n",
              "       [[0, 0, 0, ..., 0, 0, 0],\n",
              "        [0, 0, 0, ..., 0, 0, 0],\n",
              "        [0, 0, 0, ..., 0, 0, 0],\n",
              "        ...,\n",
              "        [0, 0, 0, ..., 0, 0, 0],\n",
              "        [0, 0, 0, ..., 0, 0, 0],\n",
              "        [0, 0, 0, ..., 0, 0, 0]],\n",
              "\n",
              "       [[0, 0, 0, ..., 0, 0, 0],\n",
              "        [0, 0, 0, ..., 0, 0, 0],\n",
              "        [0, 0, 0, ..., 0, 0, 0],\n",
              "        ...,\n",
              "        [0, 0, 0, ..., 0, 0, 0],\n",
              "        [0, 0, 0, ..., 0, 0, 0],\n",
              "        [0, 0, 0, ..., 0, 0, 0]],\n",
              "\n",
              "       [[0, 0, 0, ..., 0, 0, 0],\n",
              "        [0, 0, 0, ..., 0, 0, 0],\n",
              "        [0, 0, 0, ..., 0, 0, 0],\n",
              "        ...,\n",
              "        [0, 0, 0, ..., 0, 0, 0],\n",
              "        [0, 0, 0, ..., 0, 0, 0],\n",
              "        [0, 0, 0, ..., 0, 0, 0]]], dtype=uint8)"
            ]
          },
          "metadata": {},
          "execution_count": 65
        }
      ]
    },
    {
      "cell_type": "code",
      "source": [
        "len(imagens_teste)\n",
        "imagens_teste.shape"
      ],
      "metadata": {
        "colab": {
          "base_uri": "https://localhost:8080/"
        },
        "id": "ftMd97o0RHcF",
        "outputId": "925cb7ec-1818-46ad-f88c-324f5201c5a7"
      },
      "execution_count": 66,
      "outputs": [
        {
          "output_type": "execute_result",
          "data": {
            "text/plain": [
              "(10000, 28, 28)"
            ]
          },
          "metadata": {},
          "execution_count": 66
        }
      ]
    },
    {
      "cell_type": "code",
      "source": [
        "len(identificacoes_teste)\n",
        "identificacoes_teste.shape"
      ],
      "metadata": {
        "colab": {
          "base_uri": "https://localhost:8080/"
        },
        "id": "XyLuY0w4SvOm",
        "outputId": "78287c08-761d-49ec-fc4e-161f424bf48a"
      },
      "execution_count": 67,
      "outputs": [
        {
          "output_type": "execute_result",
          "data": {
            "text/plain": [
              "(10000,)"
            ]
          },
          "metadata": {},
          "execution_count": 67
        }
      ]
    },
    {
      "cell_type": "markdown",
      "source": [
        "**Época**\n",
        "- A contagem que aparece no número de épocas é quantas vezes passamos por cada uma das imagens treino ao treinarmos a nossa rede."
      ],
      "metadata": {
        "id": "E61ie6h22-6a"
      }
    },
    {
      "cell_type": "markdown",
      "source": [
        "**Normalizando as imagens**"
      ],
      "metadata": {
        "id": "MaSJMrrol7y3"
      }
    },
    {
      "cell_type": "code",
      "source": [
        "imagens_treino = imagens_treino/float(255) "
      ],
      "metadata": {
        "id": "Vn6Y5A2beCl_"
      },
      "execution_count": 68,
      "outputs": []
    },
    {
      "cell_type": "markdown",
      "source": [
        "- Teremos as nossas imagens, que serão uma entrada, nossas funções serão o processamento e, no final, teremos uma saída. Agora, o nosso modelo considera tudo isso, essas três etapas.\n",
        "\n",
        "- O que é que sabemos? Que nosso modelo possui uma entrada, o processamento e a saída, essas três camadas acontecendo. Cada uma delas será em sequência, primeiro entra, depois processa, e então sai.\n",
        "\n",
        "- Podemos começar a escrever isso na linguagem do próprio Keras e do TensorFlow, então, pegaremos a palavra modelo e o faremos receber o que virá aqui. Sabemos que há uma sequencia, que em inglês é Sequential, então esta é a primeira coisa que escreveremos, que se encontra dentro do keras, então deixaremos keras.Sequential, utilizaremos este tipo de modelo dentro do Keras, algo que fará nossas camadas de entrada, processamento e saída acontecerem em sequência.\n",
        "\n",
        "- Como isso é uma função, vamos abrir e fechar parênteses, e como é isso que organiza o nosso modelo, colocaremos as nossas camadas dentro deles. E como temos mais de uma coisa acontecendo, iremos abrir e fechar os colchetes para agruparmos tudo isso, indentando para ficar mais legal.\n",
        "\n",
        "- Vamos começar pelo começo, então olharemos melhor nossa entrada comentando processamento e saida. Sabemos que nossa entrada são as imagens, então vamos pensar um pouco no que já exploramos e sabemos em relação às nossas imagens. Temos um exemplo que são um par de botas, e se formos pegar esta imagem, ao usarmos len ou shape, vimos que ela tinha 28 x 28, linhas e colunas. E que cada um desses espaços ocupava um número, isso será chamado de pixel, então as imagens são formadas por pixels.\n",
        "\n",
        "- Se considerarmos 1px deste tamanho para esta imagem que vemos, conseguimos incluir 4px dentro dela, então dividimos esta imagem em 4px. Mas do mesmo modo que tínhamos 28 x 28, podemos ler esses 4px de outra forma, que são 2px para a nossa linha, e 2x para a coluna.\n",
        "\n",
        "- Repare que quando chamamos esta imagem de 2 x 2px, estamos tendo uma imagem de 2 dimensões, linhas e colunas. O que podemos fazer nesta primeira camada que chamamos de camada 0 é pegar esses 2 x 2px e, por exemplo, ter uma função para lidar com cada pixel. Então, teríamos 4 unidades, 1 para cada pixel, e o que elas farão é reordenar e reagrupar estes pixels. Então, em vez de termos 2 dimensões, 2 linhas e 2 colunas, teremos 1 linha e 4 colunas, assim temos 1 dimensão com 4 pixels.\n",
        "\n",
        "- É isso que faremos em nossa primeira camada, que é a que chamamos de camada 0. Essa é a nossa entrada. Voltaremos ao Notebook, e sabemos que em nossa entrada iremos lidar com imagens que temos no dataset, e elas não tinham 2 x 2 pixels, e sim 28 x 28 px. Esses números, que iremos agrupar entre parênteses e com uma vírgula entre eles, são as dimensões que vimos na forma da nossa imagem.\n",
        "\n",
        "- Forma em inglês é shape, e até agora, quando falamos sobre entrada, estávamos falando sobre input, que é entrada em inglês. Ou seja, essa é nossa input_shape, ou a forma da entrada, imagens de 28 x 28px. Mas ainda temos que falar da tal da camada 0. Camada em inglês é layer, e o Keras possui várias camadas, então escreveremos layers.\n",
        "\n",
        "- Para transformarmos a nossa imagem de 28 x 28px em um array de 1 dimensão, com todos esses 28, 28 pixels, iremos fazer um achatamento para as dimensões vetoriais. Isso em inglês fica Flatten, então usaremos keras.layers.Flatten, e como é uma função, abriremos e fecharemos parênteses, passando as nossas imagens de entrada para dentro dessa primeira camada, ou camada 0.\n",
        "\n",
        "- Agora já temos um modelo, e sabemos que ele acontece em sequência, e temos a nossa primeira camada. Podemos rodar para ver o que acontece. Daremos Cmd + Enter, e obteremos um erro indicando que input_shape não foi definido, esquecemos de atribuir os 28, 28 no input_shape, basta acrescentarmos um sinal de igual em nosso código. Vamos rodar mais uma vez, legal, só que cadê o nosso modelo, criamos, mas onde ele está?\n",
        "\n",
        "- É a mesma coisa do curso de Machine Learning, apenas criamos, falamos que existe uma camada dentro de um modelo sequencial, então agora podemos começar a fazer os outros passos para começar a ver a saída desse modelo.\n",
        "\n",
        "- A função não linear introduz no modelo a transformação dos dados necessária para identificarmos as diferenças nas imagens que vamos classificar. Nesse caso, escolhemos a função ReLU."
      ],
      "metadata": {
        "id": "jZryzZ8XdjcY"
      }
    },
    {
      "cell_type": "markdown",
      "source": [
        "**Criando, compilando, treinando e normalizando o modelo**"
      ],
      "metadata": {
        "id": "XtxOzkyhmM5_"
      }
    },
    {
      "cell_type": "code",
      "source": [
        "modelo = keras.Sequential([\n",
        "  keras.layers.Flatten(input_shape=(28, 28)), #entrada - 1º camada\n",
        "  keras.layers.Dense(256, activation=tensorflow.nn.relu), #processamento. A camada Dense é aquela que faz as conexões entre todas as unidades da camada 2 com as unidades da camada 1. RELU = UNIDADE LINEAR RETIFICADA\n",
        "  keras.layers.Dense(128, activation=tensorflow.nn.relu),\n",
        "  keras.layers.Dense(64, activation=tensorflow.nn.relu),\n",
        "  keras.layers.Dense(10, activation=tensorflow.nn.softmax) #saida. A função softmax vai dar uma probabilidade para cada unidade.\n",
        "])\n",
        " \n",
        "modelo.compile(optimizer='adam', \n",
        "               loss='sparse_categorical_crossentropy',\n",
        "               metrics=['accuracy'])\n",
        "\n",
        "historico = modelo.fit(imagens_treino, identificacoes_treino, epochs=5, validation_split=0.2)"
      ],
      "metadata": {
        "colab": {
          "base_uri": "https://localhost:8080/"
        },
        "id": "fde68DGJmHS5",
        "outputId": "ba9b5027-e400-408d-d414-6cf76bfbd11c"
      },
      "execution_count": 69,
      "outputs": [
        {
          "output_type": "stream",
          "name": "stdout",
          "text": [
            "Epoch 1/5\n",
            "1500/1500 [==============================] - 8s 5ms/step - loss: 0.5013 - accuracy: 0.8193 - val_loss: 0.4111 - val_accuracy: 0.8523\n",
            "Epoch 2/5\n",
            "1500/1500 [==============================] - 7s 5ms/step - loss: 0.3730 - accuracy: 0.8631 - val_loss: 0.3857 - val_accuracy: 0.8637\n",
            "Epoch 3/5\n",
            "1500/1500 [==============================] - 8s 5ms/step - loss: 0.3328 - accuracy: 0.8767 - val_loss: 0.3668 - val_accuracy: 0.8646\n",
            "Epoch 4/5\n",
            "1500/1500 [==============================] - 7s 5ms/step - loss: 0.3123 - accuracy: 0.8821 - val_loss: 0.3385 - val_accuracy: 0.8774\n",
            "Epoch 5/5\n",
            "1500/1500 [==============================] - 7s 5ms/step - loss: 0.2952 - accuracy: 0.8904 - val_loss: 0.3309 - val_accuracy: 0.8782\n"
          ]
        }
      ]
    },
    {
      "cell_type": "markdown",
      "source": [
        "**Salvando e carregando o modelo treinado**"
      ],
      "metadata": {
        "id": "k456F8UnoiTz"
      }
    },
    {
      "cell_type": "code",
      "source": [
        "modelo.save('modelo.h5')\n",
        "modelo_salvo = load_model('modelo.h5')"
      ],
      "metadata": {
        "id": "iPYDzi1JEwNp"
      },
      "execution_count": 70,
      "outputs": []
    },
    {
      "cell_type": "code",
      "source": [
        "testes = modelo.predict(imagens_teste)\n",
        "print('resultado teste:', np.argmax(testes[1]))\n",
        "print('número da imagem de teste:', identificacoes_teste[1])"
      ],
      "metadata": {
        "colab": {
          "base_uri": "https://localhost:8080/"
        },
        "id": "dV-4D9wD2Z5Y",
        "outputId": "d7af58bd-82fe-429d-c9b5-3c80f58a3881"
      },
      "execution_count": 71,
      "outputs": [
        {
          "output_type": "stream",
          "name": "stdout",
          "text": [
            "resultado teste: 2\n",
            "número da imagem de teste: 2\n"
          ]
        }
      ]
    },
    {
      "cell_type": "markdown",
      "source": [
        "**Vizualizando as acurácias de treino e validação por época**"
      ],
      "metadata": {
        "id": "R2-N5rBHooei"
      }
    },
    {
      "cell_type": "code",
      "source": [
        "plt.plot(historico.history['accuracy'])\n",
        "plt.plot(historico.history['val_accuracy'])\n",
        "plt.title('Acurácia por épocas')\n",
        "plt.xlabel('épocas')\n",
        "plt.ylabel('acurácia')\n",
        "plt.legend(['treino', 'validação'])"
      ],
      "metadata": {
        "colab": {
          "base_uri": "https://localhost:8080/",
          "height": 313
        },
        "id": "M2sdgOHwf9wT",
        "outputId": "48fd62e0-f2da-40f2-ad47-e201aaf1793d"
      },
      "execution_count": 72,
      "outputs": [
        {
          "output_type": "execute_result",
          "data": {
            "text/plain": [
              "<matplotlib.legend.Legend at 0x7fdc94ab6bd0>"
            ]
          },
          "metadata": {},
          "execution_count": 72
        },
        {
          "output_type": "display_data",
          "data": {
            "image/png": "[encoded data removed]",
            "text/plain": [
              "<Figure size 432x288 with 1 Axes>"
            ]
          },
          "metadata": {
            "needs_background": "light"
          }
        }
      ]
    },
    {
      "cell_type": "markdown",
      "source": [
        "**Vizualizando as perdas de treino e validação por época**"
      ],
      "metadata": {
        "id": "Xm7ImLhCo1nd"
      }
    },
    {
      "cell_type": "code",
      "source": [
        "plt.plot(historico.history['loss'])\n",
        "plt.plot(historico.history['val_loss'])\n",
        "plt.title('Perda por épocas')\n",
        "plt.xlabel('épocas')\n",
        "plt.ylabel('perda')\n",
        "plt.legend(['treino', 'validação'])"
      ],
      "metadata": {
        "colab": {
          "base_uri": "https://localhost:8080/",
          "height": 313
        },
        "id": "FXr9W-GeE0Uh",
        "outputId": "92492d0b-3e62-4b3a-d6ad-1befe69c7c2d"
      },
      "execution_count": 73,
      "outputs": [
        {
          "output_type": "execute_result",
          "data": {
            "text/plain": [
              "<matplotlib.legend.Legend at 0x7fdc97041490>"
            ]
          },
          "metadata": {},
          "execution_count": 73
        },
        {
          "output_type": "display_data",
          "data": {
            "image/png": "[encoded data removed]",
            "text/plain": [
              "<Figure size 432x288 with 1 Axes>"
            ]
          },
          "metadata": {
            "needs_background": "light"
          }
        }
      ]
    },
    {
      "cell_type": "markdown",
      "source": [
        "**Testando o modelo e o modelo salvo**"
      ],
      "metadata": {
        "id": "rTYUPkEDpK0M"
      }
    },
    {
      "cell_type": "code",
      "source": [
        "testes = modelo.predict(imagens_teste)\n",
        "print('resultado teste:', np.argmax(testes[1]))\n",
        "print('número da imagem de teste:', identificacoes_teste[1])\n",
        "\n",
        "testes_modelo_salvo = modelo_salvo.predict(imagens_teste)\n",
        "print('resultado teste modelo salvo:', np.argmax(testes_modelo_salvo[1]))\n",
        "print('número da imagem de teste:', identificacoes_teste[1])"
      ],
      "metadata": {
        "colab": {
          "base_uri": "https://localhost:8080/"
        },
        "id": "hfhoW0qsE4BZ",
        "outputId": "37145f6b-af3e-4d3f-8862-a38b62f4e23e"
      },
      "execution_count": 74,
      "outputs": [
        {
          "output_type": "stream",
          "name": "stdout",
          "text": [
            "resultado teste: 2\n",
            "número da imagem de teste: 2\n",
            "resultado teste modelo salvo: 2\n",
            "número da imagem de teste: 2\n"
          ]
        }
      ]
    },
    {
      "cell_type": "markdown",
      "source": [
        "**Avaliando o modelo**"
      ],
      "metadata": {
        "id": "8yj9wh_GpUK1"
      }
    },
    {
      "cell_type": "code",
      "source": [
        "perda_teste, acuracia_teste = modelo.evaluate(imagens_teste, identificacoes_teste)\n",
        "print('Perda do teste:', perda_teste)\n",
        "print('Acurácia do teste:', acuracia_teste)"
      ],
      "metadata": {
        "colab": {
          "base_uri": "https://localhost:8080/"
        },
        "id": "yBNCyOoYENNN",
        "outputId": "c822913c-826b-4570-d6d5-922f7b6866ad"
      },
      "execution_count": 75,
      "outputs": [
        {
          "output_type": "stream",
          "name": "stdout",
          "text": [
            "313/313 [==============================] - 1s 3ms/step - loss: 46.5068 - accuracy: 0.8554\n",
            "Perda do teste: 46.5068473815918\n",
            "Acurácia do teste: 0.855400025844574\n"
          ]
        }
      ]
    },
    {
      "cell_type": "code",
      "source": [
        "perda_teste, acuracia_teste = modelo.evaluate(imagens_teste, identificacoes_teste)\n",
        "print('Perda do teste:', perda_teste)\n",
        "print('Acurácia do teste:', acuracia_teste)"
      ],
      "metadata": {
        "colab": {
          "base_uri": "https://localhost:8080/"
        },
        "id": "Gd8ugv-tE6Jw",
        "outputId": "5ed04d4c-7346-42b3-943e-a67ffb602f11"
      },
      "execution_count": 76,
      "outputs": [
        {
          "output_type": "stream",
          "name": "stdout",
          "text": [
            "313/313 [==============================] - 1s 3ms/step - loss: 46.5068 - accuracy: 0.8554\n",
            "Perda do teste: 46.5068473815918\n",
            "Acurácia do teste: 0.855400025844574\n"
          ]
        }
      ]
    },
    {
      "cell_type": "markdown",
      "source": [
        "**Conclusão**\n",
        "- Vamos recapitular o que vimos: primeiro usamos o tensorflow, específico para estes modelos de Deep Learning, e acima dele, que usamos para escrever nosso código com Python, foi o keras, uma API de alto nível. Também utilizamos o matplotlib, o pyplot para fazer nossos gráficos e visualizar nossas imagens, entendendo nosso dataset, usamos o numpy, e há o importe do load_model, para quando salvamos nosso modelo.\n",
        "\n",
        "- Começamos usando o dataset fashion_mnist, que vem e está organizado dentro do próprio Keras, e vimos como ele voltava tuplas, acessava imagens_treino, identificacoes_treino, imagens_teste, identificacoes_teste, que vocês já tinham visto no curso de Machine Learning. E então carregamos os dados com outra função do Keras, então é legal que esta API faz bastante coisas para nós.\n",
        "\n",
        "- Exploramos estes dados entendendo se eles eram vetores, quantas dimensões eles tinham, imagens, quantas para teste e quantas para treino, e o dataset não vinha com os nomes das classificações, demos uma olhada na documentação do fashion_mnist do Zalando Research. Começamos a entender os pixels das nossas imagens, que estavam em escala de cinza, e vimos que uma boa pedida seria normalizar essa imagem para termos valores menores, os quais nos ajudariam durante nosso modelo.\n",
        "\n",
        "- Assim, fica mais fácil para nosso modelo processar estes dados, porque ele já faz muito. Começamos a construir este modelo que possui 3 camadas, a de entrada, 0, a primeira, densa, que é 1, Dropout que é 2 e a última, densa, que é 3. Vimos como fazer o Flatten, a ReLU, o que é Dropout, softmax, e quando fomos compilar o modelo, também entendemos que tínhamos que passar um otimizador, como calcularemos nossa perda, e uma métrica.\n",
        "\n",
        "- Então treinamos nosso modelo, salvamos em um histórico, e deixamos 20% dos dados para validarmos este modelo, e fomos mexendo na quantidade de épocas. Brincamos com o número de camadas da nossa rede para ver o que acontecia, e vimos que há um detalhe do Notebook, que é necessário restartar o Runtime.\n",
        "\n",
        "- Quando conseguimos chegar ao modelo que achamos mais interessante, porque fizemos os gráficos para visualizarmos as acurácias e as perdas que tivemos tanto em treino quanto em validação, com pyplot, salvamos e carregamos o modelo treinado. No meio disso tudo, também fomos testando este modelo com predict, como também tínhamos visto no curso de Machine Learning.\n",
        "\n",
        "- Vimos o resultado do teste, o número da imagem de teste, e comparamos o primeiro predict com o modelo salvo para vermos se estava tudo ok, e estávamos com o arquivo do modelo ok. Depois disso também vimos que é possível avaliar o modelo, entendendo como ele estava indo em nosso conjunto de testes. Trata-se de mais um dado de perda e acurácia, para controlarmos e ver se está minimizando a perda e aumentando a acurácia, como vimos no vídeo anterior.\n",
        "\n",
        "- Este é nosso objetivo, e vamos vendo o número de épocas, entendendo se está underfitting, overfitting, e vamos controlando para chegarmos em um bom resultado. Lembrando que além disso, é sempre importante que a sua rede generalize bem, então que a cada vez que tenha uma imagem nova, ela entenda e consiga classificar corretamente, com facilidade."
      ],
      "metadata": {
        "id": "OGW--ETAqHnE"
      }
    }
  ]
}